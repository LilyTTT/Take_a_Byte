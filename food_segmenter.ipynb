{
  "nbformat": 4,
  "nbformat_minor": 0,
  "metadata": {
    "colab": {
      "provenance": [],
      "include_colab_link": true
    },
    "kernelspec": {
      "name": "python3",
      "display_name": "Python 3"
    },
    "language_info": {
      "name": "python"
    }
  },
  "cells": [
    {
      "cell_type": "markdown",
      "metadata": {
        "id": "view-in-github",
        "colab_type": "text"
      },
      "source": [
        "<a href=\"https://colab.research.google.com/github/lukeschaller/Take_a_Byte/blob/main/food_segmenter.ipynb\" target=\"_parent\"><img src=\"https://colab.research.google.com/assets/colab-badge.svg\" alt=\"Open In Colab\"/></a>"
      ]
    },
    {
      "cell_type": "code",
      "execution_count": null,
      "metadata": {
        "id": "zqowkrSNDHa_"
      },
      "outputs": [],
      "source": [
        "import tensorflow.compat.v2 as tf\n",
        "import tensorflow_hub as hub\n",
        "import numpy as np\n",
        "from PIL import Image"
      ]
    },
    {
      "cell_type": "code",
      "source": [
        "def GetInput():\n",
        "  # Get input from user for file path\n",
        "  image_path = input(\"File path: \")\n",
        "  return image_path"
      ],
      "metadata": {
        "id": "vCz9AQVBNWgf"
      },
      "execution_count": null,
      "outputs": []
    },
    {
      "cell_type": "code",
      "source": [
        "# Function to process the input image\n",
        "def ProcessImage(filename):\n",
        "  image = Image.open(filename)\n",
        "  image = image.resize((513, 513))  # Resize to match the model's expected input size\n",
        "  image = np.array(image)  # Convert to NumPy array\n",
        "  image = image / 255.0  # Normalize pixel values to [0, 1]\n",
        "\n",
        "  image_with_batch = np.expand_dims(image, axis=0)\n",
        "  return image_with_batch"
      ],
      "metadata": {
        "id": "QIUbkwF5R8Fq"
      },
      "execution_count": null,
      "outputs": []
    },
    {
      "cell_type": "code",
      "source": [
        "# Make predictions using the specified signature.\n",
        "def MakePrediction(image):\n",
        "\n",
        "  # variable for model path\n",
        "  model_path = \"/content\"\n",
        "\n",
        "  # Load the model\n",
        "  model = tf.saved_model.load(model_path)\n",
        "\n",
        "  # Create signature variable for model\n",
        "  signature = model.signatures['default']\n",
        "\n",
        "  # Make predictions using loaded model and signature\n",
        "  predictions = signature(tf.constant(ProcessImage(image), dtype=tf.float32))\n",
        "\n",
        "  # Call output function to print results\n",
        "  OutputImage(predictions)"
      ],
      "metadata": {
        "id": "9sO7l369Zq9A"
      },
      "execution_count": null,
      "outputs": []
    },
    {
      "cell_type": "code",
      "source": [
        "# Function handling the image output\n",
        "def OutputImage(predictions):\n",
        "  final_output = {}\n",
        "\n",
        "  # Different model categories\n",
        "  categories = [\"background\", \"vegetables | leafy_greens\", \"vegetables | stem_vegetables\", \"vegetables | non-starchy_roots\", \"vegetables | other\", \"fruits\", \"protein | meat\", \"protein | poultry\", \"protein | seafood\", \"protein | eggs\", \"protein | beans/nuts\", \"starches/grains | baked_goods\", \"starches/grains | rice/grains/cereals\", \"starches/grains | noodles/pasta\", \"starches/grains | starchy_vegetables\", \"starches/grains | other\", \"soups/stews\", \"herbs/spices\", \"dariy\", \"snacks\", \"sweets/desserts\", \"beverages\", \"fats/oils/sauces\", \"food_containers\", \"dining_tools\", \"other_food\"]\n",
        "\n",
        "  # Get both outputs (%'s and model predictions)\n",
        "  semantic_probabilities = predictions['food_group_segmenter:semantic_probabilities'].numpy()\n",
        "  semantic_predictions = predictions['food_group_segmenter:semantic_predictions'].numpy()\n",
        "\n",
        "  # Loop through categories\n",
        "  for i in range(len(categories)):\n",
        "    # Get the number of occurences of that category index in the prediction output\n",
        "    category_count = np.count_nonzero(semantic_predictions == i)\n",
        "\n",
        "    # Get the % of each category\n",
        "    category_percentage = round(((category_count / semantic_predictions.size) * 100), 2)\n",
        "\n",
        "    final_output[categories[i]] = str(category_percentage) + \" %\"\n",
        "\n",
        "    # Print out category\n",
        "    print(f'{categories[i]} : {category_percentage}%')\n",
        "\n"
      ],
      "metadata": {
        "id": "9YRaBoE4mpVk"
      },
      "execution_count": null,
      "outputs": []
    },
    {
      "cell_type": "code",
      "source": [
        "image = GetInput()\n",
        "MakePrediction(image)\n"
      ],
      "metadata": {
        "colab": {
          "base_uri": "https://localhost:8080/"
        },
        "id": "ZrtSzEIkLves",
        "outputId": "27f51125-8d9c-4caa-d734-37d8ba6b3525"
      },
      "execution_count": null,
      "outputs": [
        {
          "output_type": "stream",
          "name": "stdout",
          "text": [
            "File path: /content/pizza.jpg\n",
            "background : 35.22%\n",
            "vegetables | leafy_greens : 0.0%\n",
            "vegetables | stem_vegetables : 0.0%\n",
            "vegetables | non-starchy_roots : 0.0%\n",
            "vegetables | other : 0.0%\n",
            "fruits : 0.06%\n",
            "protein | meat : 41.66%\n",
            "protein | poultry : 0.0%\n",
            "protein | seafood : 0.0%\n",
            "protein | eggs : 6.41%\n",
            "protein | beans/nuts : 0.0%\n",
            "starches/grains | baked_goods : 5.48%\n",
            "starches/grains | rice/grains/cereals : 0.0%\n",
            "starches/grains | noodles/pasta : 0.0%\n",
            "starches/grains | starchy_vegetables : 0.0%\n",
            "starches/grains | other : 1.14%\n",
            "soups/stews : 0.0%\n",
            "herbs/spices : 0.0%\n",
            "dariy : 0.2%\n",
            "snacks : 0.0%\n",
            "sweets/desserts : 0.0%\n",
            "beverages : 0.0%\n",
            "fats/oils/sauces : 0.0%\n",
            "food_containers : 9.83%\n",
            "dining_tools : 0.0%\n",
            "other_food : 0.0%\n"
          ]
        }
      ]
    },
    {
      "cell_type": "code",
      "source": [],
      "metadata": {
        "id": "_HjK4M-BMPS3"
      },
      "execution_count": null,
      "outputs": []
    }
  ]
}